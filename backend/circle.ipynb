{
 "cells": [
  {
   "cell_type": "code",
   "execution_count": null,
   "metadata": {},
   "outputs": [],
   "source": [
    "%load_ext autoreload\n",
    "%autoreload 2\n",
    "\n",
    "import dotenv\n",
    "import IPython\n",
    "\n",
    "import numpy as np\n",
    "\n",
    "from backend import gmaps\n",
    "from backend.location import Location, spherical_distance\n",
    "\n",
    "dotenv.load_dotenv()"
   ]
  },
  {
   "cell_type": "code",
   "execution_count": null,
   "metadata": {},
   "outputs": [],
   "source": [
    "# center = Location(lat=51.510760, lng=-0.098481)\n",
    "center = Location(lat=51.51085332781443, lng=-0.1007581488010626)\n",
    "size_pixels = 640\n",
    "zoom = 15"
   ]
  },
  {
   "cell_type": "code",
   "execution_count": null,
   "metadata": {},
   "outputs": [],
   "source": [
    "from backend.grid import get_map_dimensions\n",
    "\n",
    "\n",
    "map_size_lat, map_size_lng = get_map_dimensions(center, zoom, size_pixels)\n",
    "\n",
    "radius = 0.25\n",
    "\n",
    "circle_locations = []\n",
    "for i in range(0, 360, 10):\n",
    "    radians = np.deg2rad(i)\n",
    "    circle_locations.append(\n",
    "        center.with_offset(\n",
    "            lat=np.cos(radians) * map_size_lat * radius,\n",
    "            lng=np.sin(radians) * map_size_lng * radius,\n",
    "        )\n",
    "    )"
   ]
  },
  {
   "cell_type": "code",
   "execution_count": null,
   "metadata": {},
   "outputs": [],
   "source": [
    "image = gmaps.get_static_map(\n",
    "    center,\n",
    "    zoom=zoom,\n",
    "    markers=[center] + circle_locations,\n",
    "    size_pixels=size_pixels,\n",
    ")\n",
    "IPython.display.Image(image)"
   ]
  },
  {
   "cell_type": "code",
   "execution_count": null,
   "metadata": {},
   "outputs": [],
   "source": [
    "from backend.gmaps import get_api_key\n",
    "import requests\n",
    "\n",
    "def call_compute_routes_api(origin: Location, destination: Location) -> dict:\n",
    "    payload = {\n",
    "        \"origin\": origin.to_route_matrix_location()[\"waypoint\"],\n",
    "        \"destination\": destination.to_route_matrix_location()[\"waypoint\"],\n",
    "        # \"origin\": center.to_route_matrix_location()[\"waypoint\"],\n",
    "        # \"destination\": circle_locations[1].to_route_matrix_location()[\"waypoint\"],\n",
    "        \"travelMode\": \"WALK\",\n",
    "        \"languageCode\": \"en-US\",\n",
    "        \"polylineEncoding\": \"GEO_JSON_LINESTRING\",\n",
    "    }\n",
    "\n",
    "    response = requests.post(\n",
    "        \"https://routes.googleapis.com/directions/v2:computeRoutes\",\n",
    "        json=payload,\n",
    "        headers={\n",
    "            \"X-Goog-Api-Key\": get_api_key(),\n",
    "            \"X-Goog-FieldMask\": \",\".join(\n",
    "                [\n",
    "                    \"routes.duration\",\n",
    "                    \"routes.distanceMeters\",\n",
    "                    \"routes.polyline.geoJsonLinestring\",\n",
    "                    # \"routes.polyline.geoJsonLinestring\",\n",
    "\n",
    "                ]\n",
    "            ),\n",
    "        },\n",
    "    )\n",
    "    response.raise_for_status()\n",
    "\n",
    "    return response.json()"
   ]
  },
  {
   "cell_type": "code",
   "execution_count": null,
   "metadata": {},
   "outputs": [],
   "source": [
    "responses = [call_compute_routes_api(center, c) for c in circle_locations]"
   ]
  },
  {
   "cell_type": "code",
   "execution_count": null,
   "metadata": {},
   "outputs": [],
   "source": [
    "durations = [int(r[\"routes\"][0][\"duration\"][:-1]) for r in responses]\n",
    "durations"
   ]
  },
  {
   "cell_type": "code",
   "execution_count": null,
   "metadata": {},
   "outputs": [],
   "source": [
    "from backend.location import Polyline\n",
    "\n",
    "polylines = [\n",
    "    Polyline.from_route_response(response[\"routes\"][0]) for response in responses\n",
    "]"
   ]
  },
  {
   "cell_type": "code",
   "execution_count": null,
   "metadata": {},
   "outputs": [],
   "source": [
    "shortened_points = [\n",
    "    p.get_point_at_fraction(min(1, 600 / d)) for p, d in zip(polylines, durations)\n",
    "]"
   ]
  },
  {
   "cell_type": "code",
   "execution_count": null,
   "metadata": {},
   "outputs": [],
   "source": [
    "image = gmaps.get_static_map(\n",
    "    center,\n",
    "    zoom=zoom,\n",
    "    markers=[center] + shortened_points,\n",
    "    size_pixels=size_pixels,\n",
    ")\n",
    "IPython.display.Image(image)"
   ]
  },
  {
   "cell_type": "code",
   "execution_count": null,
   "metadata": {},
   "outputs": [],
   "source": []
  },
  {
   "cell_type": "code",
   "execution_count": null,
   "metadata": {},
   "outputs": [],
   "source": [
    "naive_shortened_points = [\n",
    "    center.interpolate(c, np.median(durations) / d)\n",
    "    for c, d in zip(circle_locations, durations)\n",
    "]"
   ]
  },
  {
   "cell_type": "code",
   "execution_count": null,
   "metadata": {},
   "outputs": [],
   "source": [
    "image = gmaps.get_static_map(\n",
    "    center,\n",
    "    zoom=zoom,\n",
    "    # markers=[center] + circle_locations,\n",
    "    markers=[center],\n",
    "    size_pixels=size_pixels,\n",
    ")\n",
    "IPython.display.Image(image)"
   ]
  },
  {
   "cell_type": "code",
   "execution_count": null,
   "metadata": {},
   "outputs": [],
   "source": [
    "import pandas as pd"
   ]
  },
  {
   "cell_type": "code",
   "execution_count": null,
   "metadata": {},
   "outputs": [],
   "source": [
    "df = pd.DataFrame(\n",
    "    {\n",
    "        \"space_lat\": [p.lat for p in circle_locations],\n",
    "        \"space_lng\": [p.lng for p in circle_locations],\n",
    "        \"time_lat\": [p.lat for p in naive_shortened_points],\n",
    "        \"time_lng\": [p.lng for p in naive_shortened_points],\n",
    "    }\n",
    ")\n",
    "df.to_csv(\"../actual-video/spacetime_circle.csv\", index=False)"
   ]
  },
  {
   "cell_type": "code",
   "execution_count": null,
   "metadata": {},
   "outputs": [],
   "source": [
    "shortened_points"
   ]
  },
  {
   "cell_type": "code",
   "execution_count": null,
   "metadata": {},
   "outputs": [],
   "source": [
    "naive_shortened_points"
   ]
  },
  {
   "cell_type": "code",
   "execution_count": null,
   "metadata": {},
   "outputs": [],
   "source": []
  }
 ],
 "metadata": {
  "kernelspec": {
   "display_name": "spacetime-map",
   "language": "python",
   "name": "python3"
  },
  "language_info": {
   "codemirror_mode": {
    "name": "ipython",
    "version": 3
   },
   "file_extension": ".py",
   "mimetype": "text/x-python",
   "name": "python",
   "nbconvert_exporter": "python",
   "pygments_lexer": "ipython3",
   "version": "3.11.4"
  }
 },
 "nbformat": 4,
 "nbformat_minor": 2
}
