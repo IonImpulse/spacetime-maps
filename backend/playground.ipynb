{
 "cells": [
  {
   "cell_type": "code",
   "execution_count": null,
   "metadata": {},
   "outputs": [],
   "source": [
    "%load_ext autoreload\n",
    "%autoreload 2"
   ]
  },
  {
   "cell_type": "code",
   "execution_count": null,
   "metadata": {},
   "outputs": [],
   "source": [
    "import os\n",
    "import json\n",
    "\n",
    "import IPython\n",
    "import requests\n",
    "import dotenv\n",
    "import pandas as pd\n",
    "import numpy as np\n",
    "\n",
    "from backend.location import Location, spherical_distance\n",
    "from backend import gmaps\n",
    "from backend.grid import make_grid, Grid\n",
    "\n",
    "dotenv.load_dotenv()"
   ]
  },
  {
   "cell_type": "code",
   "execution_count": null,
   "metadata": {},
   "outputs": [],
   "source": [
    "GMAPS_API_KEY = os.environ[\"GMAPS_API_KEY\"]"
   ]
  },
  {
   "cell_type": "code",
   "execution_count": null,
   "metadata": {},
   "outputs": [],
   "source": [
    "# zurich = Location(47.378, 8.540)\n",
    "# zurich = Location(47.369, 8.5415)\n",
    "zurich = Location(47.375, 8.5415)\n",
    "zoom = 14\n",
    "size_pixels = 640\n",
    "# grid = make_grid(zurich, zoom, size=5)\n",
    "\n",
    "grid = Grid(zurich, zoom=zoom, size=20, snap_to_roads=True, size_pixels=size_pixels)\n",
    "\n",
    "image = gmaps.get_static_map(zurich, zoom, markers=grid.get_snapped_locations(), size_pixels=size_pixels)\n",
    "# image = gmaps.get_static_map(zurich, zoom, markers=[], size_pixels=size_pixels)\n",
    "IPython.display.Image(image)"
   ]
  },
  {
   "cell_type": "code",
   "execution_count": null,
   "metadata": {},
   "outputs": [],
   "source": []
  },
  {
   "cell_type": "code",
   "execution_count": null,
   "metadata": {},
   "outputs": [],
   "source": []
  },
  {
   "cell_type": "code",
   "execution_count": null,
   "metadata": {},
   "outputs": [],
   "source": [
    "image = gmaps.get_static_map(zurich, zoom, markers=grid.get_snapped_locations(), size_pixels=size_pixels)\n",
    "IPython.display.Image(image)"
   ]
  },
  {
   "cell_type": "code",
   "execution_count": null,
   "metadata": {},
   "outputs": [],
   "source": []
  },
  {
   "cell_type": "code",
   "execution_count": null,
   "metadata": {},
   "outputs": [],
   "source": [
    "image = gmaps.get_static_map(zurich, zoom, markers=[])\n",
    "IPython.display.Image(image)"
   ]
  },
  {
   "cell_type": "code",
   "execution_count": null,
   "metadata": {},
   "outputs": [],
   "source": [
    "matrix = list(gmaps.get_distance_matrix(grid.get_snapped_locations(), grid.get_snapped_locations()))"
   ]
  },
  {
   "cell_type": "code",
   "execution_count": null,
   "metadata": {},
   "outputs": [],
   "source": [
    "import logging\n",
    "logging.basicConfig(level=logging.INFO)"
   ]
  },
  {
   "cell_type": "code",
   "execution_count": null,
   "metadata": {},
   "outputs": [],
   "source": [
    "grid.compute_sparsified_distance_matrix(max_normalized_distance=0.12)"
   ]
  },
  {
   "cell_type": "code",
   "execution_count": null,
   "metadata": {},
   "outputs": [],
   "source": [
    "with open(\"20x20grid-v8.json\", \"w\") as f:\n",
    "    json.dump(grid.to_json(), f)"
   ]
  },
  {
   "cell_type": "code",
   "execution_count": null,
   "metadata": {},
   "outputs": [],
   "source": [
    "with open(\"15x15grid-v7.json\", \"w\") as f:\n",
    "    json.dump(grid.to_json(), f)"
   ]
  },
  {
   "cell_type": "code",
   "execution_count": null,
   "metadata": {},
   "outputs": [],
   "source": [
    "with open(\"5x5matrix-v3-request.json\", \"w\") as f:\n",
    "    json.dump(gmaps.get_distance_matrix_api_payload(grid, grid), f)"
   ]
  },
  {
   "cell_type": "code",
   "execution_count": null,
   "metadata": {},
   "outputs": [],
   "source": [
    "[x for x in matrix if \"destinationIndex\" not in x]"
   ]
  },
  {
   "cell_type": "markdown",
   "metadata": {},
   "source": [
    "## Analysis"
   ]
  },
  {
   "cell_type": "code",
   "execution_count": null,
   "metadata": {},
   "outputs": [],
   "source": [
    "with open(\"../frontend/src/assets/9x9matrix-v2.json\") as f:\n",
    "    matrix = json.load(f)"
   ]
  },
  {
   "cell_type": "code",
   "execution_count": null,
   "metadata": {},
   "outputs": [],
   "source": [
    "df = pd.DataFrame(matrix)\n",
    "df = df.set_index([\"originIndex\", \"destinationIndex\"]).sort_index()"
   ]
  },
  {
   "cell_type": "code",
   "execution_count": null,
   "metadata": {},
   "outputs": [],
   "source": [
    "df[\"durationSec\"] = df[\"duration\"].apply(lambda x: x if pd.isna(x) else int(x[:-1]))"
   ]
  },
  {
   "cell_type": "code",
   "execution_count": null,
   "metadata": {},
   "outputs": [],
   "source": [
    "df[\"originLat\"] = df.index.get_level_values(0).map(lambda i: grid[i].lat)\n",
    "df[\"originLng\"] = df.index.get_level_values(0).map(lambda i: grid[i].lng)\n",
    "df[\"destinationLat\"] = df.index.get_level_values(1).map(lambda i: grid[i].lat)\n",
    "df[\"destinationLng\"] = df.index.get_level_values(1).map(lambda i: grid[i].lng)"
   ]
  },
  {
   "cell_type": "code",
   "execution_count": null,
   "metadata": {},
   "outputs": [],
   "source": [
    "df"
   ]
  },
  {
   "cell_type": "code",
   "execution_count": null,
   "metadata": {},
   "outputs": [],
   "source": [
    "df[\"sphericalDistance\"] = df.apply(\n",
    "    lambda row: spherical_distance(\n",
    "        Location(row.originLat, row.originLng),\n",
    "        Location(row.destinationLat, row.destinationLng),\n",
    "    ),\n",
    "    axis=1,\n",
    ")"
   ]
  },
  {
   "cell_type": "code",
   "execution_count": null,
   "metadata": {},
   "outputs": [],
   "source": [
    "df[\"distanceRatio\"] =  df[\"sphericalDistance\"] / df[\"distanceMeters\"]\n",
    "df[\"timeRatio\"] =  df[\"sphericalDistance\"] / df[\"durationSec\"]"
   ]
  },
  {
   "cell_type": "code",
   "execution_count": null,
   "metadata": {},
   "outputs": [],
   "source": [
    "df.sort_values(\"distanceRatio\", ascending=False)"
   ]
  },
  {
   "cell_type": "code",
   "execution_count": null,
   "metadata": {},
   "outputs": [],
   "source": [
    "import plotly.express as px"
   ]
  },
  {
   "cell_type": "code",
   "execution_count": null,
   "metadata": {},
   "outputs": [],
   "source": [
    "reindexing\n"
   ]
  },
  {
   "cell_type": "code",
   "execution_count": null,
   "metadata": {},
   "outputs": [],
   "source": []
  }
 ],
 "metadata": {
  "kernelspec": {
   "display_name": "stretchy-map",
   "language": "python",
   "name": "python3"
  },
  "language_info": {
   "codemirror_mode": {
    "name": "ipython",
    "version": 3
   },
   "file_extension": ".py",
   "mimetype": "text/x-python",
   "name": "python",
   "nbconvert_exporter": "python",
   "pygments_lexer": "ipython3",
   "version": "3.11.4"
  }
 },
 "nbformat": 4,
 "nbformat_minor": 2
}
