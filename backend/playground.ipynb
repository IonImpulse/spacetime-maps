{
 "cells": [
  {
   "cell_type": "code",
   "execution_count": null,
   "metadata": {},
   "outputs": [],
   "source": [
    "%load_ext autoreload\n",
    "%autoreload 2"
   ]
  },
  {
   "cell_type": "code",
   "execution_count": null,
   "metadata": {},
   "outputs": [],
   "source": [
    "import os\n",
    "\n",
    "import IPython\n",
    "import requests\n",
    "import dotenv\n",
    "\n",
    "from backend.location import Location, make_grid\n",
    "from backend.gmaps import get_static_map\n",
    "\n",
    "dotenv.load_dotenv()"
   ]
  },
  {
   "cell_type": "code",
   "execution_count": null,
   "metadata": {},
   "outputs": [],
   "source": [
    "GMAPS_API_KEY = os.environ[\"GMAPS_API_KEY\"]"
   ]
  },
  {
   "cell_type": "code",
   "execution_count": null,
   "metadata": {},
   "outputs": [],
   "source": [
    "data = {\n",
    "    \"origins\": [\n",
    "        {\n",
    "            \"waypoint\": {\n",
    "                \"location\": {\n",
    "                    \"latLng\": {\"latitude\": 37.420761, \"longitude\": -122.081356}\n",
    "                }\n",
    "            },\n",
    "        },\n",
    "        {\n",
    "            \"waypoint\": {\n",
    "                \"location\": {\n",
    "                    \"latLng\": {\"latitude\": 37.403184, \"longitude\": -122.097371}\n",
    "                }\n",
    "            },\n",
    "        },\n",
    "    ],\n",
    "    \"destinations\": [\n",
    "        {\n",
    "            \"waypoint\": {\n",
    "                \"location\": {\n",
    "                    \"latLng\": {\"latitude\": 37.420999, \"longitude\": -122.086894}\n",
    "                }\n",
    "            }\n",
    "        },\n",
    "        {\n",
    "            \"waypoint\": {\n",
    "                \"location\": {\n",
    "                    \"latLng\": {\"latitude\": 37.383047, \"longitude\": -122.044651}\n",
    "                }\n",
    "            }\n",
    "        },\n",
    "    ],\n",
    "    \"travelMode\": \"TRANSIT\",\n",
    "    # 9:00 UTC is 11:00 CEST\n",
    "    \"departureTime\": \"2023-09-04T09:00:00Z\",\n",
    "}"
   ]
  },
  {
   "cell_type": "code",
   "execution_count": null,
   "metadata": {},
   "outputs": [],
   "source": [
    "import os\n",
    "\n",
    "\n",
    "response = requests.post(\n",
    "    \"https://routes.googleapis.com/distanceMatrix/v2:computeRouteMatrix\",\n",
    "    json=data,\n",
    "    headers={\n",
    "        \"X-Goog-Api-Key\": GMAPS_API_KEY,\n",
    "        \"X-Goog-FieldMask\": \"originIndex,destinationIndex,duration,distanceMeters,status,condition\",\n",
    "    },\n",
    ")"
   ]
  },
  {
   "cell_type": "code",
   "execution_count": null,
   "metadata": {},
   "outputs": [],
   "source": [
    "# 47.378N, 8.540E"
   ]
  },
  {
   "cell_type": "code",
   "execution_count": null,
   "metadata": {},
   "outputs": [],
   "source": [
    "# zurich = Location(47.378, 8.540)\n",
    "zurich = Location(47.378, 8.540)\n",
    "# zurich = Location(45, 130)"
   ]
  },
  {
   "cell_type": "code",
   "execution_count": null,
   "metadata": {},
   "outputs": [],
   "source": [
    "zoom = 14\n",
    "grid = make_grid(zurich, zoom)\n",
    "\n",
    "image = get_static_map(zurich, zoom, markers=grid)\n",
    "\n",
    "IPython.display.Image(image)"
   ]
  },
  {
   "cell_type": "code",
   "execution_count": null,
   "metadata": {},
   "outputs": [],
   "source": [
    "response.content"
   ]
  },
  {
   "cell_type": "code",
   "execution_count": null,
   "metadata": {},
   "outputs": [],
   "source": []
  }
 ],
 "metadata": {
  "kernelspec": {
   "display_name": "stretchy-map",
   "language": "python",
   "name": "python3"
  },
  "language_info": {
   "codemirror_mode": {
    "name": "ipython",
    "version": 3
   },
   "file_extension": ".py",
   "mimetype": "text/x-python",
   "name": "python",
   "nbconvert_exporter": "python",
   "pygments_lexer": "ipython3",
   "version": "3.11.4"
  }
 },
 "nbformat": 4,
 "nbformat_minor": 2
}
