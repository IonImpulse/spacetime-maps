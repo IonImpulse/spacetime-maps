{
 "cells": [
  {
   "cell_type": "code",
   "execution_count": null,
   "metadata": {},
   "outputs": [],
   "source": [
    "%load_ext autoreload\n",
    "%autoreload 2"
   ]
  },
  {
   "cell_type": "code",
   "execution_count": null,
   "metadata": {},
   "outputs": [],
   "source": [
    "import os\n",
    "import json\n",
    "\n",
    "import IPython\n",
    "import requests\n",
    "import dotenv\n",
    "import pandas as pd\n",
    "import numpy as np\n",
    "\n",
    "from backend.location import Location, make_grid, spherical_distance\n",
    "from backend import gmaps\n",
    "\n",
    "dotenv.load_dotenv()\n",
    "\n",
    "GMAPS_API_KEY = os.environ[\"GMAPS_API_KEY\"]"
   ]
  },
  {
   "cell_type": "code",
   "execution_count": null,
   "metadata": {},
   "outputs": [],
   "source": [
    "# zurich = Location(47.364, 8.5415)  # close to Bürkliplatz\n",
    "# zurich = Location(47.355, 8.545)  # close to Chinagarten\n",
    "zurich = Location(47.3704468136481,8.54363623046875)\n",
    "zoom = 14\n",
    "\n",
    "image = gmaps.get_static_map(zurich, zoom, markers=[zurich])\n",
    "\n",
    "IPython.display.Image(image)"
   ]
  },
  {
   "cell_type": "code",
   "execution_count": null,
   "metadata": {},
   "outputs": [],
   "source": [
    "str(zurich)"
   ]
  },
  {
   "cell_type": "code",
   "execution_count": null,
   "metadata": {},
   "outputs": [],
   "source": [
    "response = requests.get(f\"https://maps.googleapis.com/maps/api/geocode/json?latlng={zurich}&key={GMAPS_API_KEY}\")\n",
    "\n",
    "data = response.json()[\"results\"]\n",
    "locations = [\n",
    "    Location(x[\"geometry\"][\"location\"][\"lat\"], x[\"geometry\"][\"location\"][\"lng\"])\n",
    "    for x in data\n",
    "]"
   ]
  },
  {
   "cell_type": "code",
   "execution_count": null,
   "metadata": {},
   "outputs": [],
   "source": [
    "zoom = 14\n",
    "\n",
    "for i, location in enumerate(locations):\n",
    "    print(i, data[i][\"types\"])\n",
    "    image = gmaps.get_static_map(zurich, zoom, markers=[zurich, location])\n",
    "    display(IPython.display.Image(image))"
   ]
  },
  {
   "cell_type": "code",
   "execution_count": null,
   "metadata": {},
   "outputs": [],
   "source": [
    "buerkliplatz = Location(47.369, 8.5415)\n",
    "grid = make_grid(buerkliplatz, zoom=15, size=9)\n",
    "\n",
    "image = gmaps.get_static_map(buerkliplatz, zoom=15, markers=grid)\n",
    "IPython.display.Image(image)"
   ]
  },
  {
   "cell_type": "code",
   "execution_count": null,
   "metadata": {},
   "outputs": [],
   "source": [
    "def resolve(location: Location):\n",
    "    response = requests.get(\n",
    "        f\"https://maps.googleapis.com/maps/api/geocode/json?\"\n",
    "        f\"latlng={location}&key={GMAPS_API_KEY}\"\n",
    "    )\n",
    "    data = response.json()\n",
    "\n",
    "    if data[\"status\"] != \"OK\":\n",
    "        raise ValueError(f\"Got non-OK status when resolving {location}. Got: {data}\")\n",
    "\n",
    "    # I also tried \"street_address\", which sounds like what we'd actually want,\n",
    "    # but this left multiple markers in the lake.\n",
    "    result_types = [\"route\", \"point_of_interest\"]\n",
    "    filtered_results = [\n",
    "        x for x in data[\"results\"] if any(t in x[\"types\"] for t in result_types)\n",
    "    ]\n",
    "\n",
    "    if not filtered_results:\n",
    "        raise ValueError(f\"No location found when resolving {location}. Got: {data}\")\n",
    "\n",
    "    resolution = filtered_results[0]\n",
    "\n",
    "    return {\n",
    "        \"location\": Location(\n",
    "            resolution[\"geometry\"][\"location\"][\"lat\"],\n",
    "            resolution[\"geometry\"][\"location\"][\"lng\"],\n",
    "        ),\n",
    "        \"place_id\": resolution[\"place_id\"],\n",
    "        \"types\": resolution[\"types\"],\n",
    "    }"
   ]
  },
  {
   "cell_type": "code",
   "execution_count": null,
   "metadata": {},
   "outputs": [],
   "source": [
    "import tqdm.auto\n",
    "\n",
    "resolved_grid = [resolve(location)[\"location\"] for location in tqdm.auto.tqdm(grid)]"
   ]
  },
  {
   "cell_type": "code",
   "execution_count": null,
   "metadata": {},
   "outputs": [],
   "source": [
    "image = gmaps.get_static_map(buerkliplatz, zoom=15, markers=resolved_grid)\n",
    "IPython.display.Image(image)"
   ]
  },
  {
   "cell_type": "code",
   "execution_count": null,
   "metadata": {},
   "outputs": [],
   "source": []
  }
 ],
 "metadata": {
  "kernelspec": {
   "display_name": "stretchy-map",
   "language": "python",
   "name": "python3"
  },
  "language_info": {
   "codemirror_mode": {
    "name": "ipython",
    "version": 3
   },
   "file_extension": ".py",
   "mimetype": "text/x-python",
   "name": "python",
   "nbconvert_exporter": "python",
   "pygments_lexer": "ipython3",
   "version": "3.11.4"
  }
 },
 "nbformat": 4,
 "nbformat_minor": 2
}
