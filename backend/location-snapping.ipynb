{
 "cells": [
  {
   "cell_type": "code",
   "execution_count": null,
   "metadata": {},
   "outputs": [],
   "source": [
    "%load_ext autoreload\n",
    "%autoreload 2"
   ]
  },
  {
   "cell_type": "code",
   "execution_count": null,
   "metadata": {},
   "outputs": [],
   "source": [
    "import os\n",
    "import json\n",
    "\n",
    "import IPython\n",
    "import requests\n",
    "import dotenv\n",
    "import pandas as pd\n",
    "import numpy as np\n",
    "\n",
    "from backend.location import Location, make_grid, spherical_distance\n",
    "from backend import gmaps\n",
    "\n",
    "dotenv.load_dotenv()\n",
    "\n",
    "GMAPS_API_KEY = os.environ[\"GMAPS_API_KEY\"]"
   ]
  },
  {
   "cell_type": "code",
   "execution_count": null,
   "metadata": {},
   "outputs": [],
   "source": [
    "# zurich = Location(47.364, 8.5415)  # close to Bürkliplatz\n",
    "# zurich = Location(47.355, 8.545)  # close to Chinagarten\n",
    "zurich = Location(47.3704468136481,8.54363623046875)\n",
    "zoom = 14\n",
    "\n",
    "image = gmaps.get_static_map(zurich, zoom, markers=[zurich])\n",
    "\n",
    "IPython.display.Image(image)"
   ]
  },
  {
   "cell_type": "code",
   "execution_count": null,
   "metadata": {},
   "outputs": [],
   "source": [
    "str(zurich)"
   ]
  },
  {
   "cell_type": "code",
   "execution_count": null,
   "metadata": {},
   "outputs": [],
   "source": [
    "response = requests.get(f\"https://maps.googleapis.com/maps/api/geocode/json?latlng={zurich}&key={GMAPS_API_KEY}\")\n",
    "\n",
    "data = response.json()[\"results\"]\n",
    "locations = [\n",
    "    Location(x[\"geometry\"][\"location\"][\"lat\"], x[\"geometry\"][\"location\"][\"lng\"])\n",
    "    for x in data\n",
    "]"
   ]
  },
  {
   "cell_type": "code",
   "execution_count": null,
   "metadata": {},
   "outputs": [],
   "source": [
    "zoom = 14\n",
    "\n",
    "for i, location in enumerate(locations):\n",
    "    print(i, data[i][\"types\"])\n",
    "    image = gmaps.get_static_map(zurich, zoom, markers=[zurich, location])\n",
    "    display(IPython.display.Image(image))"
   ]
  },
  {
   "cell_type": "code",
   "execution_count": null,
   "metadata": {},
   "outputs": [],
   "source": [
    "buerkliplatz = Location(47.369, 8.5415)\n",
    "grid = make_grid(buerkliplatz, zoom=15, size=9)\n",
    "\n",
    "image = gmaps.get_static_map(buerkliplatz, zoom=15, markers=grid)\n",
    "IPython.display.Image(image)"
   ]
  },
  {
   "cell_type": "code",
   "execution_count": null,
   "metadata": {},
   "outputs": [],
   "source": [
    "import tqdm.auto\n",
    "\n",
    "resolved_grid = [gmaps.snap_to_road(location)[\"location\"] for location in tqdm.auto.tqdm(grid)]"
   ]
  },
  {
   "cell_type": "code",
   "execution_count": null,
   "metadata": {},
   "outputs": [],
   "source": [
    "image = gmaps.get_static_map(buerkliplatz, zoom=15, markers=resolved_grid)\n",
    "IPython.display.Image(image)"
   ]
  },
  {
   "cell_type": "code",
   "execution_count": null,
   "metadata": {},
   "outputs": [],
   "source": []
  }
 ],
 "metadata": {
  "kernelspec": {
   "display_name": "stretchy-map",
   "language": "python",
   "name": "python3"
  },
  "language_info": {
   "codemirror_mode": {
    "name": "ipython",
    "version": 3
   },
   "file_extension": ".py",
   "mimetype": "text/x-python",
   "name": "python",
   "nbconvert_exporter": "python",
   "pygments_lexer": "ipython3",
   "version": "3.11.4"
  }
 },
 "nbformat": 4,
 "nbformat_minor": 2
}
